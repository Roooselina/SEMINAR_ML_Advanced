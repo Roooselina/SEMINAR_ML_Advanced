{
 "cells": [
  {
   "cell_type": "code",
   "execution_count": 1,
   "id": "27cabdd4-f92c-4671-b2d1-2c8832537203",
   "metadata": {},
   "outputs": [],
   "source": [
    "import torch\n",
    "import torch.nn as nn\n",
    "import numpy\n",
    "import torchvision.datasets as dsets\n",
    "import torchvision.transforms as transforms\n",
    "import torch.nn.init"
   ]
  },
  {
   "cell_type": "code",
   "execution_count": 2,
   "id": "775426b7-6d53-45e2-a30a-2f5b4d1dda45",
   "metadata": {},
   "outputs": [],
   "source": [
    "rate=0.001\n",
    "epoch=20\n",
    "batch_size = 32"
   ]
  },
  {
   "cell_type": "code",
   "execution_count": 3,
   "id": "6bf508a3-83c0-4b9a-bddc-a6e6d969c812",
   "metadata": {},
   "outputs": [
    {
     "name": "stdout",
     "output_type": "stream",
     "text": [
      "cuda\n"
     ]
    }
   ],
   "source": [
    "device = 'cuda' if torch.cuda.is_available() else 'cpu'\n",
    "\n",
    "torch.manual_seed(777)\n",
    "if device =='cuda':\n",
    "    torch.cuda.manual_seed_all(777)\n",
    "\n",
    "print(device)"
   ]
  },
  {
   "cell_type": "code",
   "execution_count": 4,
   "id": "2a844880-edbd-46c0-b3d8-4b5a0330fe19",
   "metadata": {},
   "outputs": [],
   "source": [
    "mnist_train = dsets.MNIST( root = 'MNIST_data/',\n",
    "                          train= True,\n",
    "                          transform = transforms.ToTensor(),\n",
    "                          download=True)\n",
    " \n",
    "mnist_test = dsets.MNIST( root = 'MNIST_data/',\n",
    "                          train= False,\n",
    "                          transform = transforms.ToTensor(),\n",
    "                          download=True)"
   ]
  },
  {
   "cell_type": "code",
   "execution_count": 5,
   "id": "3e1bbc00-4113-433f-aaeb-46404e1d1d79",
   "metadata": {},
   "outputs": [],
   "source": [
    "data = torch.utils.data.DataLoader(mnist_train, batch_size, shuffle=True)"
   ]
  },
  {
   "cell_type": "code",
   "execution_count": 6,
   "id": "838c4548-e69b-4cab-baa0-1296a2614953",
   "metadata": {},
   "outputs": [],
   "source": [
    "from torch.nn.init import kaiming_normal_\n",
    "\n",
    "class CNN(nn.Module):\n",
    "    def __init__(self):\n",
    "        super(CNN, self).__init__()\n",
    "        self.layer1 = nn.Sequential(\n",
    "            nn.Conv2d(1, 32, kernel_size=3, stride=1, padding=1),\n",
    "            nn.ReLU(),\n",
    "            nn.MaxPool2d(2)\n",
    "        )\n",
    "        kaiming_normal_(self.layer1[0].weight, mode='fan_in', nonlinearity='relu')\n",
    "        \n",
    "        self.layer2 = nn.Sequential(\n",
    "            nn.Conv2d(32, 64, kernel_size=3, stride=1, padding=1),\n",
    "            nn.ReLU(),\n",
    "            nn.MaxPool2d(2)\n",
    "        )\n",
    "        kaiming_normal_(self.layer2[0].weight, mode='fan_in', nonlinearity='relu')\n",
    "        \n",
    "        self.layer3 = nn.Sequential(\n",
    "            nn.Conv2d(64, 128, kernel_size=3, stride=1, padding=1),\n",
    "            nn.ReLU(),\n",
    "            nn.MaxPool2d(2)\n",
    "        )\n",
    "        kaiming_normal_(self.layer3[0].weight, mode='fan_in', nonlinearity='relu')\n",
    "        \n",
    "        self.fc1 = nn.Linear(3 * 3 * 128, 625)\n",
    "        self.fc2 = nn.Linear(625, 10, bias=True)\n",
    "        \n",
    "    def forward(self, x):\n",
    "        out = self.layer1(x)\n",
    "        out = self.layer2(out)\n",
    "        out = self.layer3(out)\n",
    "        out = out.view(out.size(0), -1)\n",
    "        out = self.fc1(out)\n",
    "        out = self.fc2(out)\n",
    "        \n",
    "        return out\n"
   ]
  },
  {
   "cell_type": "code",
   "execution_count": 7,
   "id": "b003f8ad-5970-460d-95d1-19648b703531",
   "metadata": {},
   "outputs": [],
   "source": [
    "model = CNN().to(device)\n",
    "cr = nn.CrossEntropyLoss()\n",
    "optimizer = torch.optim.Adam(model.parameters(), lr = rate)"
   ]
  },
  {
   "cell_type": "code",
   "execution_count": 8,
   "id": "36ec9603-1b09-4b63-9f6c-11e17e0060a1",
   "metadata": {},
   "outputs": [
    {
     "name": "stdout",
     "output_type": "stream",
     "text": [
      "Epoch 1/20, Average Cost: 0.12625433504581451\n",
      "Epoch 2/20, Average Cost: 0.055289581418037415\n",
      "Epoch 3/20, Average Cost: 0.04108230024576187\n",
      "Epoch 4/20, Average Cost: 0.03508155047893524\n",
      "Epoch 5/20, Average Cost: 0.03073696978390217\n",
      "Epoch 6/20, Average Cost: 0.022700216621160507\n",
      "Epoch 7/20, Average Cost: 0.02255374938249588\n",
      "Epoch 8/20, Average Cost: 0.018457697704434395\n",
      "Epoch 9/20, Average Cost: 0.019076131284236908\n",
      "Epoch 10/20, Average Cost: 0.015502030961215496\n",
      "Epoch 11/20, Average Cost: 0.015695104375481606\n",
      "Epoch 12/20, Average Cost: 0.016246812418103218\n",
      "Epoch 13/20, Average Cost: 0.010698878206312656\n",
      "Epoch 14/20, Average Cost: 0.01602201722562313\n",
      "Epoch 15/20, Average Cost: 0.011158851906657219\n",
      "Epoch 16/20, Average Cost: 0.012186906300485134\n",
      "Epoch 17/20, Average Cost: 0.013085709884762764\n",
      "Epoch 18/20, Average Cost: 0.011621943674981594\n",
      "Epoch 19/20, Average Cost: 0.012565265409648418\n",
      "Epoch 20/20, Average Cost: 0.010342895984649658\n",
      "학습 완료\n"
     ]
    }
   ],
   "source": [
    "total_batch = len(data)\n",
    "\n",
    "for e in range(epoch):\n",
    "    avg_cost = 0\n",
    "    for x, y in data:\n",
    "        optimizer.zero_grad()\n",
    "        x = x.to(device)\n",
    "        y = y.to(device)\n",
    "\n",
    "        hy = model(x)\n",
    "        cost = cr(hy, y)\n",
    "\n",
    "        cost.backward()\n",
    "        optimizer.step()\n",
    "        avg_cost += cost / total_batch\n",
    "\n",
    "    if (e + 1) % 1 == 0:\n",
    "        print(f\"Epoch {e + 1}/{epoch}, Average Cost: {avg_cost.item()}\")\n",
    "\n",
    "print(\"학습 완료\")\n"
   ]
  },
  {
   "cell_type": "code",
   "execution_count": 9,
   "id": "5d80a3cb-ba1b-4772-8db1-1782252687c6",
   "metadata": {},
   "outputs": [
    {
     "name": "stderr",
     "output_type": "stream",
     "text": [
      "C:\\Users\\kuroc\\anaconda3\\Lib\\site-packages\\torchvision\\datasets\\mnist.py:80: UserWarning: test_data has been renamed data\n",
      "  warnings.warn(\"test_data has been renamed data\")\n",
      "C:\\Users\\kuroc\\anaconda3\\Lib\\site-packages\\torchvision\\datasets\\mnist.py:70: UserWarning: test_labels has been renamed targets\n",
      "  warnings.warn(\"test_labels has been renamed targets\")\n"
     ]
    },
    {
     "name": "stdout",
     "output_type": "stream",
     "text": [
      "Accuracy: 93.50999593734741\n",
      "테스트 완료\n"
     ]
    }
   ],
   "source": [
    "with torch.no_grad():\n",
    "    x_test = mnist_test.test_data.view(len(mnist_test), 1, 28, 28).float().to(device)\n",
    "    y_test = mnist_test.test_labels.to(device)\n",
    "    pr = model(x_test)\n",
    "    co_pr = torch.argmax(pr, 1) == y_test\n",
    "    accuracy = co_pr.float().mean()\n",
    "    print(\"Accuracy:\",accuracy.item()*100)\n",
    "\n",
    "print(\"테스트 완료\")"
   ]
  },
  {
   "cell_type": "code",
   "execution_count": null,
   "id": "9d662dbf-b17d-4472-8d23-6c405d558f3e",
   "metadata": {},
   "outputs": [],
   "source": []
  }
 ],
 "metadata": {
  "kernelspec": {
   "display_name": "Python 3 (ipykernel)",
   "language": "python",
   "name": "python3"
  },
  "language_info": {
   "codemirror_mode": {
    "name": "ipython",
    "version": 3
   },
   "file_extension": ".py",
   "mimetype": "text/x-python",
   "name": "python",
   "nbconvert_exporter": "python",
   "pygments_lexer": "ipython3",
   "version": "3.11.5"
  }
 },
 "nbformat": 4,
 "nbformat_minor": 5
}
